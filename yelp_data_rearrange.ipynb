{
 "cells": [
  {
   "cell_type": "code",
   "execution_count": 1,
   "metadata": {
    "collapsed": true
   },
   "outputs": [],
   "source": [
    "import pandas as pd\n",
    "import datetime \n",
    "from datetime import timedelta\n",
    "import numpy as np\n",
    "import pickle\n",
    "from scipy import spatial"
   ]
  },
  {
   "cell_type": "code",
   "execution_count": 6,
   "metadata": {
    "collapsed": false
   },
   "outputs": [
    {
     "name": "stdout",
     "output_type": "stream",
     "text": [
      "Empty DataFrame\n",
      "Columns: [hours.Thursday.open, hours.Friday.open, hours.Tuesday.open, categories, hours.Monday.open, name, review_count, state, hours.Friday.close, full_address, hours.Thursday.close, hours.Saturday.open, hours.Wednesday.close, open, city, stars, type, latitude, longitude, hours.Monday.close, hours.Tuesday.close, hours.Saturday.close, hours.Sunday.open, hours.Sunday.close, hours.Wednesday.open, neighborhoods, first_date, last_date, review_rate, days_open, is_restaurant, attributes_combined, reviews]\n",
      "Index: []\n",
      "\n",
      "[0 rows x 33 columns]\n"
     ]
    }
   ],
   "source": [
    "business = pd.read_pickle('business_plus_reviews')\n",
    "print business.head(0)"
   ]
  },
  {
   "cell_type": "code",
   "execution_count": 7,
   "metadata": {
    "collapsed": false
   },
   "outputs": [
    {
     "name": "stdout",
     "output_type": "stream",
     "text": [
      "Empty DataFrame\n",
      "Columns: [business_id, date, day, month, stars, text_clean, year, business_name, business_stars, city, state]\n",
      "Index: []\n"
     ]
    }
   ],
   "source": [
    "reviews = pd.read_pickle('rev_and_business')\n",
    "print reviews.head(0)"
   ]
  },
  {
   "cell_type": "code",
   "execution_count": 18,
   "metadata": {
    "collapsed": false
   },
   "outputs": [
    {
     "name": "stdout",
     "output_type": "stream",
     "text": [
      "Empty DataFrame\n",
      "Columns: [categories, review_count, full_address, type, latitude, longitude, first_date, last_date, review_rate, days_open, is_restaurant, attributes_combined]\n",
      "Index: []\n"
     ]
    }
   ],
   "source": [
    "business_reduced = business\n",
    "\n",
    "business_reduced = business_reduced.drop('hours.Monday.open', axis=1)\n",
    "business_reduced = business_reduced.drop('hours.Tuesday.open', axis=1)\n",
    "business_reduced = business_reduced.drop('hours.Wednesday.open', axis=1)\n",
    "business_reduced = business_reduced.drop('hours.Thursday.open', axis=1)\n",
    "business_reduced = business_reduced.drop('hours.Friday.open', axis=1)\n",
    "business_reduced = business_reduced.drop('hours.Saturday.open', axis=1)\n",
    "business_reduced = business_reduced.drop('hours.Sunday.open', axis=1)\n",
    "business_reduced = business_reduced.drop('hours.Monday.close', axis=1)\n",
    "business_reduced = business_reduced.drop('hours.Tuesday.close', axis=1)\n",
    "business_reduced = business_reduced.drop('hours.Wednesday.close', axis=1)\n",
    "business_reduced = business_reduced.drop('hours.Thursday.close', axis=1)\n",
    "business_reduced = business_reduced.drop('hours.Friday.close', axis=1)\n",
    "business_reduced = business_reduced.drop('hours.Saturday.close', axis=1)\n",
    "business_reduced = business_reduced.drop('hours.Sunday.close', axis=1)\n",
    "business_reduced = business_reduced.drop('reviews', axis=1)\n",
    "business_reduced = business_reduced.drop('city', axis=1)\n",
    "business_reduced = business_reduced.drop('state', axis=1)\n",
    "business_reduced = business_reduced.drop('name', axis=1)\n",
    "business_reduced = business_reduced.drop('open', axis=1)\n",
    "business_reduced = business_reduced.drop('stars', axis=1)\n",
    "business_reduced = business_reduced.drop('neighborhoods', axis=1)\n",
    "\n",
    "print business_reduced.head(0)"
   ]
  },
  {
   "cell_type": "code",
   "execution_count": 19,
   "metadata": {
    "collapsed": false
   },
   "outputs": [
    {
     "name": "stdout",
     "output_type": "stream",
     "text": [
      "77445\n",
      "2225213\n",
      "              business_id       date  day  month  stars  \\\n",
      "0  5UmKMjUEUNdYWqANhGckJw 2012-08-01    1      8      4   \n",
      "1  5UmKMjUEUNdYWqANhGckJw 2014-02-13   13      2      5   \n",
      "2  5UmKMjUEUNdYWqANhGckJw 2015-10-31   31     10      5   \n",
      "3  WaHXyBwljbKNPmmJZn5j8Q 2012-08-01    1      8      3   \n",
      "4  WaHXyBwljbKNPmmJZn5j8Q 2014-07-26   26      7      3   \n",
      "\n",
      "                                          text_clean  year business_name  \\\n",
      "0  mr hoagie institution walking seem like throwb...  2012     Mr Hoagie   \n",
      "1  excellent food superb customer service miss ma...  2014     Mr Hoagie   \n",
      "2  yes place little dated opened weekend staff al...  2015     Mr Hoagie   \n",
      "3                                          shop save  2012  Shop 'n Save   \n",
      "4  living alone love deals meat also love faygo p...  2014  Shop 'n Save   \n",
      "\n",
      "   business_stars          city  \\\n",
      "0             4.5    Dravosburg   \n",
      "1             4.5    Dravosburg   \n",
      "2             4.5    Dravosburg   \n",
      "3             3.0  West Mifflin   \n",
      "4             3.0  West Mifflin   \n",
      "\n",
      "                         ...                          \\\n",
      "0                        ...                           \n",
      "1                        ...                           \n",
      "2                        ...                           \n",
      "3                        ...                           \n",
      "4                        ...                           \n",
      "\n",
      "                                   full_address      type   latitude  \\\n",
      "0  4734 Lebanon Church Rd\\nDravosburg, PA 15034  business  40.354327   \n",
      "1  4734 Lebanon Church Rd\\nDravosburg, PA 15034  business  40.354327   \n",
      "2  4734 Lebanon Church Rd\\nDravosburg, PA 15034  business  40.354327   \n",
      "3     1886 Homeville Rd\\nWest Mifflin, PA 15122  business  40.373677   \n",
      "4     1886 Homeville Rd\\nWest Mifflin, PA 15122  business  40.373677   \n",
      "\n",
      "   longitude first_date  last_date  review_rate days_open is_restaurant  \\\n",
      "0 -79.900706 2012-08-01 2015-10-31      0.10118    1186.0          True   \n",
      "1 -79.900706 2012-08-01 2015-10-31      0.10118    1186.0          True   \n",
      "2 -79.900706 2012-08-01 2015-10-31      0.10118    1186.0          True   \n",
      "3 -79.873734 2012-08-01 2014-08-22      0.11984     751.0          True   \n",
      "4 -79.873734 2012-08-01 2014-08-22      0.11984     751.0          True   \n",
      "\n",
      "                                 attributes_combined  \n",
      "0   & Accepts Credit Cards & Take-out & Good for ...  \n",
      "1   & Accepts Credit Cards & Take-out & Good for ...  \n",
      "2   & Accepts Credit Cards & Take-out & Good for ...  \n",
      "3                             & Accepts Credit Cards  \n",
      "4                             & Accepts Credit Cards  \n",
      "\n",
      "[5 rows x 23 columns]\n"
     ]
    }
   ],
   "source": [
    "print len(business_reduced)\n",
    "business_reduced['business_id'] = business_reduced.index\n",
    "rev_and_business_new = pd.merge(reviews, business_reduced, how='inner', on=['business_id', 'business_id'])\n",
    "\n",
    "print len(rev_and_business_new)\n",
    "print rev_and_business_new.head()"
   ]
  },
  {
   "cell_type": "code",
   "execution_count": 25,
   "metadata": {
    "collapsed": false
   },
   "outputs": [
    {
     "name": "stdout",
     "output_type": "stream",
     "text": [
      "73984\n"
     ]
    }
   ],
   "source": [
    "reviews_random_new = rev_and_business_new[rev_and_business_new['day'] % 20 == 0]\n",
    "print len(reviews_random_new)"
   ]
  },
  {
   "cell_type": "code",
   "execution_count": 26,
   "metadata": {
    "collapsed": true
   },
   "outputs": [],
   "source": [
    "reviews_random_new.to_pickle('reviews_random_new')"
   ]
  },
  {
   "cell_type": "code",
   "execution_count": 28,
   "metadata": {
    "collapsed": false
   },
   "outputs": [
    {
     "name": "stdout",
     "output_type": "stream",
     "text": [
      "2225213\n"
     ]
    }
   ],
   "source": [
    "rev_and_business_new.to_pickle('rev_and_business_new')\n",
    "print len(rev_and_business_new)"
   ]
  }
 ],
 "metadata": {
  "kernelspec": {
   "display_name": "Python [py2]",
   "language": "python",
   "name": "Python [py2]"
  },
  "language_info": {
   "codemirror_mode": {
    "name": "ipython",
    "version": 2
   },
   "file_extension": ".py",
   "mimetype": "text/x-python",
   "name": "python",
   "nbconvert_exporter": "python",
   "pygments_lexer": "ipython2",
   "version": "2.7.12"
  }
 },
 "nbformat": 4,
 "nbformat_minor": 0
}
