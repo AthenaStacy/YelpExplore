{
 "cells": [
  {
   "cell_type": "code",
   "execution_count": 1,
   "metadata": {
    "collapsed": true
   },
   "outputs": [],
   "source": [
    "import pandas as pd\n",
    "import datetime\n",
    "import numpy as np\n",
    "import pickle\n",
    "from scipy import spatial\n",
    "import itertools\n",
    "from scipy import signal\n",
    "from sklearn.feature_extraction.text import CountVectorizer\n",
    "from sklearn.feature_extraction.text import TfidfTransformer\n",
    "import urllib2 \n",
    "import urllib\n",
    "import operator\n",
    "import string\n",
    "from bokeh.layouts import gridplot\n",
    "from bokeh.plotting import figure, show, output_file\n",
    "from bokeh.embed import components \n",
    "from bokeh.io import hplot"
   ]
  },
  {
   "cell_type": "code",
   "execution_count": 2,
   "metadata": {
    "collapsed": false
   },
   "outputs": [
    {
     "name": "stdout",
     "output_type": "stream",
     "text": [
      "user read-in complete\n",
      "(552339, 22)\n",
      "business read-in complete\n",
      "(77445, 97)\n",
      "reviews read-in complete\n",
      "(2225213, 9)\n"
     ]
    }
   ],
   "source": [
    "#READ IN THE YELP FILES to a pandas data frame\n",
    "user = pd.read_csv(\"yelp_academic_dataset_user.csv\", index_col = 'user_id')\n",
    "print \"user read-in complete\"\n",
    "print(user.shape)\n",
    "\n",
    "business = pd.read_csv(\"yelp_academic_dataset_business.csv\", na_filter=False, index_col = 'business_id')\n",
    "print \"business read-in complete\"\n",
    "print(business.shape)\n",
    "\n",
    "reviews = pd.read_csv(\"yelp_academic_dataset_review.csv\", index_col = 'review_id')\n",
    "print \"reviews read-in complete\"\n",
    "print(reviews.shape)"
   ]
  },
  {
   "cell_type": "code",
   "execution_count": 3,
   "metadata": {
    "collapsed": false
   },
   "outputs": [
    {
     "name": "stdout",
     "output_type": "stream",
     "text": [
      "              business_id       date  day  month  stars  \\\n",
      "0  5UmKMjUEUNdYWqANhGckJw 2012-08-01    1      8      4   \n",
      "1  5UmKMjUEUNdYWqANhGckJw 2014-02-13   13      2      5   \n",
      "2  5UmKMjUEUNdYWqANhGckJw 2015-10-31   31     10      5   \n",
      "3  WaHXyBwljbKNPmmJZn5j8Q 2012-08-01    1      8      3   \n",
      "4  WaHXyBwljbKNPmmJZn5j8Q 2014-07-26   26      7      3   \n",
      "\n",
      "                                          text_clean  year business_name  \\\n",
      "0  mr hoagie institution walking seem like throwb...  2012     Mr Hoagie   \n",
      "1  excellent food superb customer service miss ma...  2014     Mr Hoagie   \n",
      "2  yes place little dated opened weekend staff al...  2015     Mr Hoagie   \n",
      "3                                          shop save  2012  Shop 'n Save   \n",
      "4  living alone love deals meat also love faygo p...  2014  Shop 'n Save   \n",
      "\n",
      "   business_stars          city state  \n",
      "0             4.5    Dravosburg    PA  \n",
      "1             4.5    Dravosburg    PA  \n",
      "2             4.5    Dravosburg    PA  \n",
      "3             3.0  West Mifflin    PA  \n",
      "4             3.0  West Mifflin    PA  \n"
     ]
    }
   ],
   "source": [
    "transformer = TfidfTransformer() #to do tfidf weighting on all of the bag_of_words vectors\n",
    "nreturn = 10\n",
    "nplot = 5\n",
    "\n",
    "#reviews = pd.read_pickle('reviews_random')\n",
    "reviews = pd.read_pickle('rev_and_business')\n",
    "print reviews[0:5]"
   ]
  },
  {
   "cell_type": "code",
   "execution_count": 6,
   "metadata": {
    "collapsed": false
   },
   "outputs": [
    {
     "name": "stdout",
     "output_type": "stream",
     "text": [
      "861536\n",
      "46\n",
      "45\n"
     ]
    }
   ],
   "source": [
    "my_city = 'Las Vegas'\n",
    "#my_city = 'Los Angeles'\n",
    "\n",
    "reviews_total = []\n",
    "reviews_subset = reviews[reviews['city'] == my_city]\n",
    "\n",
    "begin_date = min(reviews_subset['date'])\n",
    "end_date = max(reviews_subset['date'])\n",
    "\n",
    "datelist = np.arange(begin_date, '2020-01-01', dtype='datetime64[D]')\n",
    "\n",
    "next_date = begin_date\n",
    "\n",
    "i=1\n",
    "while next_date < end_date:\n",
    "    next_date = next_date + pd.DateOffset(months=+3, days=0)\n",
    "    datelist[i] = next_date\n",
    "    i = i+1\n",
    "\n",
    "datelist = datelist[0:i]\n",
    "    \n",
    "dlen = len(datelist)\n",
    "\n",
    "print len(reviews_subset)\n",
    "for i in range(0,dlen-1):\n",
    "    this_month = reviews_subset[(reviews_subset['date'] > datelist[i]) & (reviews_subset['date'] <= datelist[i+1])]\n",
    "    #if len(this_month) > 0:\n",
    "    rtext = this_month['text_clean']\n",
    "    if len(rtext) > 100:\n",
    "        rtext = rtext[0:100]\n",
    "    rtext_combined = string.join(rtext)\n",
    "    reviews_total.append(rtext_combined)\n",
    "\n",
    "print len(datelist)\n",
    "print len(reviews_total)\n",
    "\n",
    "#for i in range( 0, nrev ):\n",
    "#    reviews_clean_subset.append(reviews_subset['text_clean'].iloc[i])\n",
    "\n",
    "#mystring_subset = ''.join(reviews_clean_subset)\n",
    "\n",
    "#reviews_total.append(mystring_subset)"
   ]
  },
  {
   "cell_type": "code",
   "execution_count": 7,
   "metadata": {
    "collapsed": false
   },
   "outputs": [],
   "source": [
    "reviews_vec = CountVectorizer(analyzer = \"word\",   \\\n",
    "                             tokenizer = None,    \\\n",
    "                             preprocessor = None, \\\n",
    "                             stop_words = None,   \\\n",
    "                             max_features = 200, ngram_range=(1,1)) \n",
    "reviews_features = reviews_vec.fit_transform(reviews_total)\n",
    "reviews_tfidf = transformer.fit_transform(reviews_features)\n",
    "reviews_features = reviews_features.toarray()\n",
    "reviews_tfidf = reviews_tfidf.toarray()\n",
    "\n",
    "\n",
    "reviews2_vec = CountVectorizer(analyzer = \"word\",   \\\n",
    "                             tokenizer = None,    \\\n",
    "                             preprocessor = None, \\\n",
    "                             stop_words = None,   \\\n",
    "                             max_features = 200, ngram_range=(2,2)) \n",
    "reviews2_features = reviews2_vec.fit_transform(reviews_total)\n",
    "reviews2_tfidf = transformer.fit_transform(reviews2_features)\n",
    "reviews2_features = reviews2_features.toarray()\n",
    "reviews2_tfidf = reviews2_tfidf.toarray()\n",
    "\n",
    "\n",
    "reviews3_vec = CountVectorizer(analyzer = \"word\",   \\\n",
    "                             tokenizer = None,    \\\n",
    "                             preprocessor = None, \\\n",
    "                             stop_words = None,   \\\n",
    "                             max_features = 200, ngram_range=(3,3)) \n",
    "reviews3_features = reviews3_vec.fit_transform(reviews_total)\n",
    "reviews3_tfidf = transformer.fit_transform(reviews3_features)\n",
    "reviews3_features = reviews3_features.toarray()\n",
    "reviews3_tfidf = reviews3_tfidf.toarray()\n",
    "\n",
    "vocab = reviews_vec.get_feature_names()\n",
    "vocab2 = reviews2_vec.get_feature_names()\n",
    "vocab3 = reviews3_vec.get_feature_names()"
   ]
  },
  {
   "cell_type": "code",
   "execution_count": 61,
   "metadata": {
    "collapsed": false
   },
   "outputs": [
    {
     "name": "stdout",
     "output_type": "stream",
     "text": [
      "[u'actually', u'also', u'always', u'amazing', u'another', u'anything', u'area', u'around', u'asked', u'away', u'awesome', u'back', u'bad', u'bar', u'bathroom', u'beautiful', u'bed', u'beds', u'bellagio', u'best', u'better', u'big', u'bit', u'buffet', u'called', u'came', u'casino', u'cheap', u'check', u'circus', u'clean', u'club', u'come', u'comfortable', u'cool', u'could', u'course', u'day', u'decor', u'definitely', u'desk', u'different', u'door', u'drink', u'drinks', u'eat', u'else', u'end', u'enough', u'even', u'ever', u'every', u'everything', u'expensive', u'experience', u'far', u'favorite', u'feel', u'find', u'first', u'floor', u'food', u'free', u'friendly', u'friends', u'front', u'fun', u'get', u'getting', u'give', u'go', u'going', u'good', u'got', u'great', u'hard', u'high', u'hot', u'hotel', u'hotels', u'hour', u'hours', u'however', u'huge', u'inside', u'kids', u'know', u'large', u'las', u'last', u'least', u'left', u'let', u'like', u'line', u'little', u'location', u'long', u'look', u'looking', u'lot', u'love', u'loved', u'made', u'make', u'many', u'minutes', u'money', u'much', u'music', u'need', u'never', u'new', u'next', u'nice', u'night', u'nothing', u'oh', u'ok', u'old', u'one', u'outside', u'overall', u'party', u'pay', u'people', u'place', u'places', u'pool', u'pretty', u'price', u'probably', u'really', u'recommend', u'resort', u'restaurant', u'restaurants', u'review', u'right', u'room', u'rooms', u'said', u'say', u'see', u'service', u'shops', u'show', u'shower', u'side', u'since', u'small', u'something', u'staff', u'star', u'stars', u'stay', u'stayed', u'staying', u'still', u'strip', u'suite', u'super', u'sure', u'table', u'tables', u'take', u'thing', u'things', u'think', u'though', u'thought', u'time', u'times', u'told', u'took', u'top', u'tower', u'trip', u'try', u'tv', u'two', u'us', u'vegas', u'venetian', u'view', u'visit', u'wait', u'walk', u'want', u'wanted', u'water', u'way', u'weekend', u'well', u'went', u'worth', u'would', u'wynn', u'years', u'york']\n",
      "\n",
      "[u'across street', u'anywhere else', u'ass juice', u'augustus tower', u'back room', u'beautiful hotel', u'best hotel', u'best part', u'caesar palace', u'caesars palace', u'called front', u'came back', u'casino floor', u'casino hotel', u'circus circus', u'cirque du', u'come back', u'coming back', u'could get', u'coyote ugly', u'crab legs', u'credit card', u'customer service', u'dance floor', u'definitely stay', u'du soleil', u'end strip', u'even though', u'ever stayed', u'every time', u'everything else', u'favorite hotel', u'feel like', u'felt like', u'first night', u'first time', u'five star', u'flat screen', u'food court', u'food good', u'forum shops', u'fountain show', u'fountain view', u'front desk', u'gave us', u'get free', u'get lost', u'get pay', u'get room', u'go back', u'go vegas', u'golf course', u'good food', u'good place', u'good thing', u'good time', u'got room', u'grand lux', u'great food', u'great hotel', u'great location', u'great place', u'great restaurants', u'great service', u'great time', u'great view', u'hard rock', u'high end', u'highly recommend', u'hot dog', u'hot dogs', u'hotel beautiful', u'hotel casino', u'hotel great', u'hotel room', u'hotel rooms', u'hotel stay', u'hotel stayed', u'hotel strip', u'hotel vegas', u'hotels strip', u'hotels vegas', u'ice cream', u'las vegas', u'last time', u'late night', u'little bit', u'living room', u'location strip', u'look like', u'looked like', u'looks like', u'love hotel', u'love love', u'love place', u'make sure', u'mandalay bay', u'many people', u'many times', u'middle strip', u'mini bar', u'monte carlo', u'much better', u'never stay', u'never stayed', u'new york', u'next day', u'next door', u'next time', u'nice hotel', u'nice place', u'nice room', u'night stay', u'non smoking', u'nothing special', u'ny ny', u'one best', u'one favorite', u'one night', u'one star', u'one thing', u'parking garage', u'parking lot', u'per night', u'pink taco', u'place go', u'place stay', u'planet hollywood', u'poker room', u'pool area', u'pretty cool', u'pretty good', u'pretty much', u'pretty nice', u'prime rib', u'queen beds', u'really enjoyed', u'really good', u'really like', u'really nice', u'resort fee', u'right next', u'roller coaster', u'room clean', u'room great', u'room nice', u'room ready', u'room room', u'room service', u'rooms clean', u'rooms great', u'rooms nice', u'screen tv', u'service good', u'service great', u'several times', u'slot machines', u'smoking room', u'somewhere else', u'sports book', u'staff friendly', u'star hotel', u'stay bellagio', u'stay hotel', u'stay vegas', u'stay venetian', u'stay wynn', u'steve wynn', u'th floor', u'time go', u'time stayed', u'time vegas', u'told us', u'top notch', u'treasure island', u'trip vegas', u'us room', u'vegas hotel', u'vegas strip', u'venetian palazzo', u'venezia tower', u'view room', u'view strip', u'walk around', u'walking around', u'want stay', u'water show', u'well worth', u'west tower', u'would definitely', u'would go', u'would like', u'would never', u'would recommend', u'would say', u'would stay', u'wynn encore', u'year old', u'years ago', u'york new']\n",
      "\n",
      "[u'back front desk', u'back next time', u'beds super comfy', u'bellagio water show', u'best hotel ever', u'best hotel strip', u'best hotel vegas', u'best hotels vegas', u'black jack tables', u'blue man group', u'call front desk', u'called front desk', u'calling front desk', u'canyon ranch spa', u'centrally located strip', u'chili cheese fries', u'chinese new year', u'chocolate covered strawberries', u'cirque du soleil', u'coffee maker room', u'couple years ago', u'day resort fee', u'definitely come back', u'definitely go back', u'du soleil show', u'du soleil shows', u'easy get lost', u'every time come', u'every time go', u'every time vegas', u'fashion show mall', u'favorite hotel las', u'favorite hotel vegas', u'favorite place stay', u'feel like walking', u'first time ever', u'first time stayed', u'first time staying', u'first time vegas', u'first trip vegas', u'five star hotel', u'flat screen tv', u'flat screen tvs', u'floor ceiling windows', u'food pretty good', u'fountain view room', u'free circus acts', u'free wi fi', u'front desk ask', u'front desk clerk', u'front desk person', u'front desk said', u'front desk staff', u'front desk told', u'get money worth', u'give five stars', u'give place stars', u'go back vegas', u'go las vegas', u'go somewhere else', u'good place stay', u'got great deal', u'grand canal shoppes', u'grand lux cafe', u'great customer service', u'great location strip', u'great place stay', u'great view strip', u'happiest place earth', u'hard rock hotel', u'high end hotel', u'high end hotels', u'high end shopping', u'high end shops', u'high end stores', u'home away home', u'hotel ever stayed', u'hotel great location', u'hotel las vegas', u'hotels las vegas', u'included resort fee', u'kids running around', u'king crab legs', u'king size bed', u'king sized bed', u'labor day weekend', u'lady front desk', u'las vegas blvd', u'las vegas hotel', u'las vegas hotels', u'las vegas hrid', u'las vegas rooms', u'las vegas stayed', u'las vegas strip', u'last time stayed', u'last time went', u'like new york', u'living room area', u'love love love', u'made feel like', u'make feel like', u'make sure get', u'makes feel like', u'manor motor lodge', u'memorial day weekend', u'need leave hotel', u'never go back', u'new york city', u'new york hotel', u'new york new', u'next time go', u'next time stay', u'next time vegas', u'nice place stay', u'nine fine irishmen', u'non smoking room', u'non smoking rooms', u'nothing write home', u'old school vegas', u'one best hotels', u'one favorite hotels', u'one favorite places', u'one nicest hotels', u'order room service', u'ordered room service', u'overall great experience', u'palace tower room', u'park avenue room', u'pay resort fee', u'pink hot dogs', u'place stay vegas', u'places stay vegas', u'queen size beds', u'really enjoyed stay', u'really feel like', u'recommend hotel anyone', u'resort fee per', u'ride roller coaster', u'right across street', u'right middle strip', u'right next door', u'room king bed', u'room nice clean', u'room service food', u'room service great', u'room smelled like', u'room th floor', u'room two queen', u'rooms really nice', u'separate room toilet', u'service front desk', u'service top notch', u'smell like smoke', u'smelled like smoke', u'spend much time', u'spent lot time', u'staff friendly helpful', u'stay anywhere else', u'stay circus circus', u'stay las vegas', u'stay new york', u'stay next time', u'stay somewhere else', u'stayed augustus tower', u'stayed circus circus', u'stayed many hotels', u'stayed one night', u'staying circus circus', u'strip view room', u'sunken living room', u'sweet potato fries', u'th floor view', u'time come vegas', u'time go vegas', u'tower th floor', u'trip las vegas', u'two queen beds', u'vegas first time', u'vegas many times', u'view bellagio fountains', u'view golf course', u'visit las vegas', u'wait come back', u'wait go back', u'went front desk', u'within walking distance', u'worth every penny', u'would come back', u'would definitely come', u'would definitely go', u'would definitely recommend', u'would definitely stay', u'would go back', u'would highly recommend', u'would love stay', u'would never stay', u'would recommend hotel', u'would recommend staying', u'wynn las vegas', u'york new york']\n",
      "\n"
     ]
    }
   ],
   "source": [
    "print vocab\n",
    "print ''\n",
    "print vocab2\n",
    "print ''\n",
    "print vocab3\n",
    "print ''"
   ]
  },
  {
   "cell_type": "code",
   "execution_count": 8,
   "metadata": {
    "collapsed": false
   },
   "outputs": [
    {
     "name": "stdout",
     "output_type": "stream",
     "text": [
      "          bigram             trigram   unigram\n",
      "0     black jack    really feel like      food\n",
      "1     little bit    black jack table     great\n",
      "2  stay bellagio     las vegas hotel     hotel\n",
      "3      feel like  room circus circus    buffet\n",
      "4      las vegas     hotel las vegas  bellagio\n",
      "5     strip view       make sure get     rooms\n",
      "6     great food   room smelled like     vegas\n",
      "7     great deal    non smoking room       bit\n",
      "8    vegas hotel     queen size beds      best\n",
      "9     water show   wynn tower suites     table\n"
     ]
    }
   ],
   "source": [
    "i=1\n",
    "dist = reviews_tfidf[i] #one row of word features\n",
    "count_dict = dict(zip(vocab, dist))\n",
    "sorted_count_dict = sorted(count_dict.items(), key=operator.itemgetter(1),reverse=True)\n",
    "word, freq = zip(*sorted_count_dict)\n",
    "\n",
    "dist2 = reviews2_tfidf[i] #one row of word features\n",
    "count_dict2 = dict(zip(vocab2, dist2))\n",
    "sorted_count_dict2 = sorted(count_dict2.items(), key=operator.itemgetter(1),reverse=True)\n",
    "word2, freq2 = zip(*sorted_count_dict2)\n",
    "\n",
    "dist3 = reviews3_tfidf[i] #one row of word features\n",
    "count_dict3 = dict(zip(vocab3, dist3))\n",
    "sorted_count_dict3 = sorted(count_dict3.items(), key=operator.itemgetter(1),reverse=True)\n",
    "word3, freq3 = zip(*sorted_count_dict3)\n",
    "\n",
    "ugram = word[0:nreturn]\n",
    "bgram = word2[0:nreturn]\n",
    "tgram = word3[0:nreturn]\n",
    "\n",
    "result = pd.DataFrame({'unigram' : ugram, 'bigram' : bgram, 'trigram' : tgram})\n",
    "print result"
   ]
  },
  {
   "cell_type": "code",
   "execution_count": 11,
   "metadata": {
    "collapsed": false
   },
   "outputs": [
    {
     "name": "stdout",
     "output_type": "stream",
     "text": [
      "2004-10-18 ['room circus circus'] (0.0,)\n",
      "2005-01-18 ['really feel like'] (0.64942304510529991,)\n",
      "2005-04-18 ['non smoking rooms'] (0.46200635954304642,)\n",
      "2005-07-18 ['canyon ranch spa'] (0.61956495697565195,)\n",
      "2005-10-18 ['first trip vegas'] (0.45389135251720991,)\n",
      "2006-01-18 ['call front desk'] (0.35842778925714119,)\n",
      "2006-04-18 ['floor ceiling windows'] (0.41006305999147891,)\n",
      "2006-07-18 ['non smoking room'] (0.43417743855159024,)\n",
      "2006-10-18 ['long story short'] (0.34376898325323169,)\n",
      "2007-01-18 ['canyon ranch spa'] (0.32663235047853745,)\n",
      "2007-04-18 ['love love love'] (0.70866568607141323,)\n",
      "2007-07-18 ['canyon ranch spa'] (0.41609321558250478,)\n",
      "2007-10-18 ['sunken living room'] (0.40469623903037633,)\n",
      "2008-01-18 ['new york new'] (0.39670121221360399,)\n",
      "2008-04-18 ['sunken living room'] (0.42810740130816893,)\n",
      "2008-07-18 ['visit las vegas'] (0.22145580034457465,)\n",
      "2008-10-18 ['new york new'] (0.29326921635828435,)\n",
      "2009-01-18 ['hotel las vegas'] (0.24889001734579627,)\n",
      "2009-04-18 ['first time staying'] (0.27321212388568894,)\n",
      "2009-07-18 ['cirque du soleil'] (0.32248522616191744,)\n",
      "2009-10-18 ['las vegas hrid'] (0.6038203234748778,)\n",
      "2010-01-18 ['floor ceiling windows'] (0.25351469530311682,)\n",
      "2010-04-18 ['fountain view room'] (0.34963945840227234,)\n",
      "2010-07-18 ['floor ceiling windows'] (0.31952304783283048,)\n",
      "2010-10-18 ['flat screen tv'] (0.261719317928719,)\n",
      "2011-01-18 ['west tower rooms'] (0.33619458330516289,)\n",
      "2011-04-18 ['las vegas strip'] (0.29037753329843885,)\n",
      "2011-07-18 ['go back vegas'] (0.36838072822343215,)\n",
      "2011-10-18 ['service front desk'] (0.28036314073831359,)\n",
      "2012-01-18 ['stayed circus circus'] (0.27602933126735851,)\n",
      "2012-04-18 ['memorial day weekend'] (0.40774784133724779,)\n",
      "2012-07-18 ['manor motor lodge'] (0.31101453148185682,)\n",
      "2012-10-18 ['first time staying'] (0.31280740070943291,)\n",
      "2013-01-18 ['wynn tower suites'] (0.23702207516549306,)\n",
      "2013-04-18 ['room nice clean'] (0.29676195037220604,)\n",
      "2013-07-18 ['visit las vegas'] (0.30546948685458236,)\n",
      "2013-10-18 ['staff friendly helpful'] (0.38271327182163284,)\n",
      "2014-01-18 ['circus circus hotel'] (0.30815386058376015,)\n",
      "2014-04-18 ['stayed circus circus'] (0.29012766769270859,)\n",
      "2014-07-18 ['west tower room'] (0.30388769691935885,)\n",
      "2014-10-18 ['smell like smoke'] (0.34089244504474447,)\n",
      "2015-01-18 ['wynn golf course'] (0.33482759440734289,)\n",
      "2015-04-18 ['maids stealing belongings'] (0.41946777084461473,)\n",
      "2015-07-18 ['staying circus circus'] (0.49147524580313562,)\n",
      "2015-10-18 ['room nice clean'] (0.26688070221718668,)\n"
     ]
    }
   ],
   "source": [
    "for i in range(dlen-1):\n",
    "    dist = reviews3_tfidf[i] #one row of word features\n",
    "    count_dict = dict(zip(vocab3, dist))\n",
    "    sorted_count_dict = sorted(count_dict.items(), key=operator.itemgetter(1),reverse=True)\n",
    "    word, freq = zip(*sorted_count_dict)\n",
    "    \n",
    "    print datelist[i], map(lambda x: x.encode('ascii'), word[0:1]), freq[0:1]"
   ]
  },
  {
   "cell_type": "code",
   "execution_count": 63,
   "metadata": {
    "collapsed": false
   },
   "outputs": [],
   "source": [
    "word_rate = {'datelist': datelist}\n",
    "word_rate2 = {'datelist': datelist}\n",
    "word_rate3 = {'datelist': datelist}\n",
    "\n",
    "my_word_arr = ugram[0:nplot+1]\n",
    "my_word2_arr = bgram[0:nplot+1]\n",
    "my_word3_arr = tgram[0:nplot+1]\n",
    "\n",
    "for j in range(0,len(my_word_arr)):\n",
    "    for i in range(1,200):\n",
    "        if vocab[i] == my_word_arr[j]:\n",
    "            word_index = i\n",
    "            break\n",
    "    \n",
    "    my_word_rate = []\n",
    "    for i in range(dlen-1):\n",
    "        dist = reviews_tfidf[i]\n",
    "        my_word_rate.append(dist[word_index])\n",
    "\n",
    "    word_rate[my_word_arr[j]] = my_word_rate\n",
    "            \n",
    "        \n",
    "for j in range(0,len(my_word2_arr)):\n",
    "    for i in range(1,200):\n",
    "        if vocab2[i] == my_word2_arr[j]:\n",
    "            word_index = i\n",
    "            break\n",
    "            \n",
    "    my_word_rate = []\n",
    "    for i in range(dlen-1):\n",
    "        dist = reviews2_tfidf[i]\n",
    "        my_word_rate.append(dist[word_index])\n",
    "\n",
    "    word_rate2[my_word2_arr[j]] = my_word_rate\n",
    "\n",
    "for j in range(0,len(my_word3_arr)):\n",
    "    for i in range(1,200):\n",
    "        if vocab3[i] == my_word3_arr[j]:\n",
    "            word_index = i\n",
    "            break\n",
    "\n",
    "    my_word_rate = []\n",
    "    for i in range(dlen-1):\n",
    "        dist = reviews3_tfidf[i]\n",
    "        my_word_rate.append(dist[word_index])\n",
    "\n",
    "    word_rate3[my_word3_arr[j]] = my_word_rate\n",
    "\n"
   ]
  },
  {
   "cell_type": "code",
   "execution_count": 64,
   "metadata": {
    "collapsed": false
   },
   "outputs": [
    {
     "name": "stderr",
     "output_type": "stream",
     "text": [
      "/Applications/anaconda/lib/python2.7/site-packages/ipykernel/__main__.py:38: BokehDeprecationWarning: bokeh.io.hplot was deprecated in Bokeh 0.12.0; please use bokeh.models.layouts.Row instead\n"
     ]
    }
   ],
   "source": [
    "TOOLS = \"pan,wheel_zoom,box_zoom,reset\"\n",
    "color_list = ['blue','red', 'green', 'orange', 'black']\n",
    "\n",
    "plot1 = figure(tools=TOOLS,\n",
    "              title='Frequently used words and phrases',\n",
    "              x_axis_label='date',\n",
    "              x_axis_type='datetime',\n",
    "              y_axis_label = 'relative word frequency')\n",
    "\n",
    "for j in range(nplot):\n",
    "    plot1.line(datelist, word_rate[my_word_arr[j]], color=color_list[j], legend = my_word_arr[j])\n",
    "\n",
    "plot1.legend.location = \"top_right\"\n",
    "\n",
    "\n",
    "plot2 = figure(tools=TOOLS,\n",
    "              title='Frequently used words and phrases',\n",
    "              x_axis_label='date',\n",
    "              x_axis_type='datetime',\n",
    "              y_axis_label = 'relative word frequency')\n",
    "\n",
    "for j in range(nplot):\n",
    "    plot2.line(datelist, word_rate2[my_word2_arr[j]], color=color_list[j], legend = my_word2_arr[j])\n",
    "\n",
    "plot2.legend.location = \"top_right\"\n",
    "\n",
    "plot3 = figure(tools=TOOLS,\n",
    "              title='Frequently used words and phrases',\n",
    "              x_axis_label='date',\n",
    "              x_axis_type='datetime',\n",
    "              y_axis_label = 'relative word frequency')\n",
    "\n",
    "for j in range(nplot):\n",
    "    plot3.line(datelist, word_rate3[my_word3_arr[j]], color=color_list[j], legend = my_word3_arr[j])\n",
    "\n",
    "plot3.legend.location = \"top_right\"\n",
    "\n",
    "p = hplot(plot1, plot2, plot3)\n",
    "\n",
    "script, div = components(p)\n",
    "\n",
    "# show the results\n",
    "show(p)"
   ]
  },
  {
   "cell_type": "code",
   "execution_count": 55,
   "metadata": {
    "collapsed": false
   },
   "outputs": [
    {
     "name": "stdout",
     "output_type": "stream",
     "text": [
      "Anthem , AZ\n",
      "Apache Junction , AZ\n",
      "Avondale , AZ\n",
      "Belmont , NC\n",
      "Buckeye , AZ\n",
      "Carefree , AZ\n",
      "Casa Grande , AZ\n",
      "Cave Creek , AZ\n",
      "Champaign , IL\n",
      "Chandler , AZ\n",
      "Charlotte , NC\n",
      "Concord , NC\n",
      "Dallas , TX\n",
      "Edinburgh , EDH\n",
      "Fitchburg , WI\n",
      "Fort Mill , SC\n",
      "Fountain Hills , AZ\n",
      "Gilbert , AZ\n",
      "Glendale , AZ\n",
      "Goodyear , AZ\n",
      "Henderson , NV\n",
      "Homestead , PA\n",
      "Karlsruhe , BW\n",
      "Kitchener , ON\n",
      "Las Vegas , NV\n",
      "Laval , QC\n",
      "Laveen , AZ\n",
      "Litchfield Park , AZ\n",
      "Madison , WI\n",
      "Maricopa , AZ\n",
      "Matthews , NC\n",
      "Mesa , AZ\n",
      "Middleton , WI\n",
      "Monona , WI\n",
      "Montreal , QC\n",
      "Montréal , QC\n",
      "North Las Vegas , NV\n",
      "Paradise Valley , AZ\n",
      "Peoria , AZ\n",
      "Phoenix , AZ\n",
      "Pineville , NC\n",
      "Pittsburgh , PA\n",
      "Queen Creek , AZ\n",
      "San Tan Valley , AZ\n",
      "Scottsdale , AZ\n",
      "Sun City , AZ\n",
      "Sun Prairie , WI\n",
      "Surprise , AZ\n",
      "Tempe , AZ\n",
      "Tolleson , AZ\n",
      "Urbana , IL\n",
      "Verdun , QC\n",
      "Waterloo , ON\n",
      "Wickenburg , AZ\n"
     ]
    }
   ],
   "source": [
    "city_list = reviews['city'].unique()\n",
    "    \n",
    "rev_by_city = reviews.groupby(['city']).count()\n",
    "rev_by_city2 = rev_by_city[rev_by_city['state'] > 800]\n",
    "\n",
    "city_list = []\n",
    "\n",
    "for c in rev_by_city2.index:\n",
    "    city_list.append(c)\n",
    "\n",
    "for c in city_list:\n",
    "    print c,',',reviews[reviews['city']==c].state.iloc[0]\n",
    "    \n",
    "\n",
    "#MontrMontr\\xc3\\xa9al is Montréal"
   ]
  },
  {
   "cell_type": "code",
   "execution_count": null,
   "metadata": {
    "collapsed": true
   },
   "outputs": [],
   "source": []
  }
 ],
 "metadata": {
  "anaconda-cloud": {},
  "kernelspec": {
   "display_name": "Python [Root]",
   "language": "python",
   "name": "Python [Root]"
  },
  "language_info": {
   "codemirror_mode": {
    "name": "ipython",
    "version": 2
   },
   "file_extension": ".py",
   "mimetype": "text/x-python",
   "name": "python",
   "nbconvert_exporter": "python",
   "pygments_lexer": "ipython2",
   "version": "2.7.12"
  }
 },
 "nbformat": 4,
 "nbformat_minor": 0
}
