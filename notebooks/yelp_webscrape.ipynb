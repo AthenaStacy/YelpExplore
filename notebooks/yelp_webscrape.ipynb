{
 "cells": [
  {
   "cell_type": "code",
   "execution_count": 7,
   "metadata": {
    "collapsed": true
   },
   "outputs": [],
   "source": [
    "import matplotlib\n",
    "import seaborn as sns\n",
    "import requests\n",
    "import pickle\n",
    "import datetime\n",
    "from datetime import datetime\n",
    "from bs4 import BeautifulSoup\n",
    "import requests\n",
    "import re"
   ]
  },
  {
   "cell_type": "code",
   "execution_count": 58,
   "metadata": {
    "collapsed": false,
    "scrolled": true
   },
   "outputs": [
    {
     "name": "stdout",
     "output_type": "stream",
     "text": [
      "https://www.yelp.com/biz/lo-cocos-berkeley\n",
      "17\n",
      "stars_myself = 4.0\n",
      "review_count = 330\n",
      "categories_here None\n",
      " & Today.4:30 pm - 10:00 pm\n",
      "closed now & Price range.$11-30 & Cannelloni.14.25 & Linguine With Clams.13.75 & Smoked Salmon.12.95 & Takes Reservations & Delivery & Take-out & Accepts Credit Cards & Good For.dinner & Parking.street & Bike Parking & Wheelchair Accessible & Good for Kids & Good for Groups & Attire.casual & Ambience.romantic & Noise Level.average & Alcohol.beer & wine only & Outdoor Seating & Wi-Fi & Has TV & Waiter Service & Caters\n",
      "24 24\n",
      "https://www.yelp.com/biz/lo-cocos-berkeley\n",
      "https://www.yelp.com/biz/lo-cocos-berkeley?start=20\n",
      "https://www.yelp.com/biz/lo-cocos-berkeley?start=40\n"
     ]
    }
   ],
   "source": [
    "#url_myself = 'https://www.yelp.com/biz/rock-bottom-restaurant-and-brewery-campbell'\n",
    "\n",
    "url_myself = 'https://www.yelp.com/biz/lo-cocos-berkeley'\n",
    "print url_myself\n",
    "\n",
    "response = requests.get(url_myself)\n",
    "soup = BeautifulSoup(response.text)\n",
    "page_block = soup.find([\"div\"], attrs={\"class\": 'page-of-pages arrange_unit arrange_unit--fill'})\n",
    "npage = re.sub('Page 1 of ', '', page_block.text)\n",
    "npage = int(npage)\n",
    "print npage\n",
    "\n",
    "stars_myself = soup.find(itemprop = 'ratingValue')['content']\n",
    "stars_myself = float(stars_myself)\n",
    "print 'stars_myself =', stars_myself\n",
    "\n",
    "review_count = soup.find(itemprop = 'reviewCount').text\n",
    "review_count = int(review_count)\n",
    "print 'review_count =', review_count\n",
    "\n",
    "attributes_here = soup.find_all(['d1','dt'])\n",
    "attributes_def = soup.find_all(['d1','dd'])\n",
    "\n",
    "att_here = ''\n",
    "for i in range(len(attributes_here)):\n",
    "    ahere = attributes_here[i].text.strip()\n",
    "    adef = attributes_def[i].text.strip()\n",
    "    if adef != 'Yes' and adef != 'No' and adef != 'yes' and adef != 'no':\n",
    "        x = ahere + '.' + adef.lower()\n",
    "    else:\n",
    "        x = ahere\n",
    "    att_here = att_here + \" & \" + x\n",
    "\n",
    "categories_here = soup.find(\"category_aliases\")\n",
    "print \"categories_here\", categories_here\n",
    "    \n",
    "print att_here\n",
    "print len(attributes_here), len(attributes_def)\n",
    "\n",
    "url_list = []\n",
    "npage_here = min(npage-1, 2)\n",
    "startnum = 20\n",
    "url_list.append(url_myself)\n",
    "\n",
    "for i in range(npage_here):\n",
    "    next_url = url_myself + '?start=' + str(startnum)\n",
    "    url_list.append(next_url)\n",
    "    startnum = startnum + 20\n",
    "\n",
    "for u in url_list:\n",
    "    print u"
   ]
  },
  {
   "cell_type": "code",
   "execution_count": 60,
   "metadata": {
    "collapsed": false
   },
   "outputs": [
    {
     "name": "stdout",
     "output_type": "stream",
     "text": [
      "https://www.yelp.com/biz/lo-cocos-berkeley\n",
      "https://www.yelp.com/biz/lo-cocos-berkeley?start=20\n",
      "https://www.yelp.com/biz/lo-cocos-berkeley?start=40\n",
      "2013-07-19\n",
      "2016-09-17\n",
      "[datetime.date(2016, 5, 15), datetime.date(2016, 8, 4), datetime.date(2016, 5, 5), datetime.date(2016, 4, 9), datetime.date(2016, 8, 24), datetime.date(2016, 9, 17), datetime.date(2016, 8, 6), datetime.date(2016, 4, 17), datetime.date(2016, 3, 11), datetime.date(2016, 3, 14), datetime.date(2016, 1, 16), datetime.date(2016, 7, 30), datetime.date(2016, 8, 5), datetime.date(2016, 7, 20), datetime.date(2016, 8, 30), datetime.date(2015, 10, 9), datetime.date(2015, 9, 21), datetime.date(2016, 3, 9), datetime.date(2015, 9, 14), datetime.date(2015, 9, 8), datetime.date(2016, 5, 30), datetime.date(2016, 1, 13), datetime.date(2016, 6, 6), datetime.date(2016, 5, 21), datetime.date(2016, 6, 21), datetime.date(2016, 3, 26), datetime.date(2015, 9, 18), datetime.date(2016, 2, 23), datetime.date(2016, 2, 13), datetime.date(2016, 2, 7), datetime.date(2015, 7, 29), datetime.date(2016, 4, 7), datetime.date(2016, 5, 7), datetime.date(2016, 4, 5), datetime.date(2015, 7, 22), datetime.date(2015, 7, 28), datetime.date(2016, 3, 11), datetime.date(2015, 7, 24), datetime.date(2015, 5, 3), datetime.date(2015, 7, 26), datetime.date(2015, 6, 6), datetime.date(2016, 6, 24), datetime.date(2016, 5, 1), datetime.date(2015, 8, 1), datetime.date(2016, 1, 26), datetime.date(2016, 3, 12), datetime.date(2015, 3, 22), datetime.date(2015, 1, 28), datetime.date(2015, 5, 19), datetime.date(2015, 5, 13), datetime.date(2015, 5, 14), datetime.date(2015, 6, 12), datetime.date(2015, 8, 20), datetime.date(2013, 7, 19), datetime.date(2015, 9, 30), datetime.date(2015, 3, 28), datetime.date(2015, 11, 4), datetime.date(2015, 5, 5), datetime.date(2014, 2, 10), datetime.date(2013, 12, 23)]\n",
      "60 60 60\n"
     ]
    }
   ],
   "source": [
    "review_list = []\n",
    "date_list = []\n",
    "star_list = []\n",
    "\n",
    "for u in url_list:\n",
    "    print u\n",
    "    response = requests.get(u)\n",
    "    soup = BeautifulSoup(response.text)\n",
    "    reviews = soup.find_all([\"p\"], attrs={\"itemprop\": 'description'})\n",
    "    for r in reviews:\n",
    "        rtext = r.text\n",
    "        review_list.append(rtext)\n",
    "        \n",
    "    dates_all = soup.find_all(itemprop = 'datePublished')\n",
    "    for d in dates_all:\n",
    "        date_here = d['content']\n",
    "        date = datetime.strptime(date_here , '%Y-%m-%d').date()\n",
    "        #date = datetime(date)\n",
    "        date_list.append(date)\n",
    "                        \n",
    "    stars_all = soup.find_all(itemprop = 'ratingValue')\n",
    "    for s in stars_all[1:]:\n",
    "        stars = s['content']\n",
    "        star_list.append(float(stars))\n",
    " \n",
    "print min(date_list)\n",
    "print max(date_list)\n",
    "\n",
    "\n",
    "\n",
    "print date_list\n",
    "#print star_list\n",
    "\n",
    "#for i in range(len(review_list)):\n",
    "#    print review_list[i], date_list[i], star_list[i]\n",
    "#    print ''\n",
    "    \n",
    "print len(review_list), len(date_list), len(star_list)"
   ]
  },
  {
   "cell_type": "code",
   "execution_count": 59,
   "metadata": {
    "collapsed": false
   },
   "outputs": [
    {
     "name": "stdout",
     "output_type": "stream",
     "text": [
      "[2, 3, 4, 5, 6, 7, 8]\n",
      "haiii\n",
      "blah blah blah\n"
     ]
    }
   ],
   "source": [
    "blah =[1,2,3,4,5,6,7,8]\n",
    "print blah[1:]\n",
    "\n",
    "my_string = 'HAIII'\n",
    "print my_string.lower()\n",
    "\n",
    "my_list = ['blah', 'blah', 'blah']\n",
    "my_list = ' '.join(my_list)\n",
    "print my_list"
   ]
  }
 ],
 "metadata": {
  "kernelspec": {
   "display_name": "Python [Root]",
   "language": "python",
   "name": "Python [Root]"
  },
  "language_info": {
   "codemirror_mode": {
    "name": "ipython",
    "version": 2
   },
   "file_extension": ".py",
   "mimetype": "text/x-python",
   "name": "python",
   "nbconvert_exporter": "python",
   "pygments_lexer": "ipython2",
   "version": "2.7.12"
  }
 },
 "nbformat": 4,
 "nbformat_minor": 0
}
