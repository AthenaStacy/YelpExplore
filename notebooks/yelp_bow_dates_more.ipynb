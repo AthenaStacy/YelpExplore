{
 "cells": [
  {
   "cell_type": "code",
   "execution_count": 14,
   "metadata": {
    "collapsed": true
   },
   "outputs": [],
   "source": [
    "import pandas as pd\n",
    "import datetime\n",
    "import numpy as np\n",
    "import pickle\n",
    "from scipy import spatial\n",
    "import itertools\n",
    "from scipy import signal\n",
    "from sklearn.feature_extraction.text import CountVectorizer\n",
    "from sklearn.feature_extraction.text import TfidfTransformer\n",
    "import urllib2 \n",
    "import urllib\n",
    "import operator\n",
    "import string\n",
    "from bokeh.layouts import gridplot\n",
    "from bokeh.plotting import figure, show, output_file, output_notebook\n",
    "from bokeh.embed import components \n",
    "from bokeh.io import hplot"
   ]
  },
  {
   "cell_type": "code",
   "execution_count": 15,
   "metadata": {
    "collapsed": false
   },
   "outputs": [
    {
     "name": "stdout",
     "output_type": "stream",
     "text": [
      "user read-in complete\n",
      "(552339, 22)\n",
      "business read-in complete\n",
      "(77445, 97)\n",
      "reviews read-in complete\n",
      "(2225213, 9)\n"
     ]
    }
   ],
   "source": [
    "#READ IN THE YELP FILES to a pandas data frame\n",
    "user = pd.read_csv(\"yelp_academic_dataset_user.csv\", index_col = 'user_id')\n",
    "print \"user read-in complete\"\n",
    "print(user.shape)\n",
    "\n",
    "business = pd.read_csv(\"yelp_academic_dataset_business.csv\", na_filter=False, index_col = 'business_id')\n",
    "print \"business read-in complete\"\n",
    "print(business.shape)\n",
    "\n",
    "reviews = pd.read_csv(\"yelp_academic_dataset_review.csv\", index_col = 'review_id')\n",
    "print \"reviews read-in complete\"\n",
    "print(reviews.shape)"
   ]
  },
  {
   "cell_type": "code",
   "execution_count": 16,
   "metadata": {
    "collapsed": false
   },
   "outputs": [
    {
     "name": "stdout",
     "output_type": "stream",
     "text": [
      "              business_id       date  day  month  stars  \\\n",
      "0  5UmKMjUEUNdYWqANhGckJw 2012-08-01    1      8      4   \n",
      "1  5UmKMjUEUNdYWqANhGckJw 2014-02-13   13      2      5   \n",
      "2  5UmKMjUEUNdYWqANhGckJw 2015-10-31   31     10      5   \n",
      "3  WaHXyBwljbKNPmmJZn5j8Q 2012-08-01    1      8      3   \n",
      "4  WaHXyBwljbKNPmmJZn5j8Q 2014-07-26   26      7      3   \n",
      "\n",
      "                                          text_clean  year business_name  \\\n",
      "0  mr hoagie institution walking seem like throwb...  2012     Mr Hoagie   \n",
      "1  excellent food superb customer service miss ma...  2014     Mr Hoagie   \n",
      "2  yes place little dated opened weekend staff al...  2015     Mr Hoagie   \n",
      "3                                          shop save  2012  Shop 'n Save   \n",
      "4  living alone love deals meat also love faygo p...  2014  Shop 'n Save   \n",
      "\n",
      "   business_stars          city state  \n",
      "0             4.5    Dravosburg    PA  \n",
      "1             4.5    Dravosburg    PA  \n",
      "2             4.5    Dravosburg    PA  \n",
      "3             3.0  West Mifflin    PA  \n",
      "4             3.0  West Mifflin    PA  \n"
     ]
    }
   ],
   "source": [
    "transformer = TfidfTransformer() #to do tfidf weighting on all of the bag_of_words vectors\n",
    "nreturn = 10\n",
    "nplot = 5\n",
    "\n",
    "#reviews = pd.read_pickle('reviews_random')\n",
    "reviews = pd.read_pickle('rev_and_business')\n",
    "print reviews[0:5]"
   ]
  },
  {
   "cell_type": "code",
   "execution_count": 6,
   "metadata": {
    "collapsed": false
   },
   "outputs": [
    {
     "name": "stdout",
     "output_type": "stream",
     "text": [
      "861536\n",
      "136\n",
      "135\n"
     ]
    }
   ],
   "source": [
    "my_city = 'Las Vegas'\n",
    "#my_city = 'Los Angeles'\n",
    "\n",
    "reviews_total = []\n",
    "reviews_subset = reviews[reviews['city'] == my_city]\n",
    "\n",
    "begin_date = min(reviews_subset['date'])\n",
    "end_date = max(reviews_subset['date'])\n",
    "\n",
    "datelist = np.arange(begin_date, '2020-01-01', dtype='datetime64[D]')\n",
    "\n",
    "next_date = begin_date\n",
    "\n",
    "i=1\n",
    "while next_date < end_date:\n",
    "    next_date = next_date + pd.DateOffset(months=+1, days=0)\n",
    "    datelist[i] = next_date\n",
    "    i = i+1\n",
    "\n",
    "datelist = datelist[0:i]\n",
    "    \n",
    "dlen = len(datelist)\n",
    "\n",
    "print len(reviews_subset)\n",
    "for i in range(0,dlen-1):\n",
    "    this_month = reviews_subset[(reviews_subset['date'] > datelist[i]) & (reviews_subset['date'] <= datelist[i+1])]\n",
    "    #if len(this_month) > 0:\n",
    "    rtext = this_month['text_clean']\n",
    "    if len(rtext) > 100:\n",
    "        rtext = rtext[0:100]\n",
    "    rtext_combined = string.join(rtext)\n",
    "    reviews_total.append(rtext_combined)\n",
    "\n",
    "print len(datelist)\n",
    "print len(reviews_total)"
   ]
  },
  {
   "cell_type": "code",
   "execution_count": 19,
   "metadata": {
    "collapsed": false
   },
   "outputs": [],
   "source": [
    "reviews_vec = CountVectorizer(analyzer = \"word\",   \\\n",
    "                             tokenizer = None,    \\\n",
    "                             preprocessor = None, \\\n",
    "                             stop_words = None,   \\\n",
    "                             max_features = 400, ngram_range=(1,1)) \n",
    "reviews_features = reviews_vec.fit_transform(reviews_total)\n",
    "reviews_tfidf = transformer.fit_transform(reviews_features)\n",
    "reviews_features = reviews_features.toarray()\n",
    "reviews_tfidf = reviews_tfidf.toarray()\n",
    "\n",
    "\n",
    "reviews2_vec = CountVectorizer(analyzer = \"word\",   \\\n",
    "                             tokenizer = None,    \\\n",
    "                             preprocessor = None, \\\n",
    "                             stop_words = None,   \\\n",
    "                             max_features = 400, ngram_range=(2,2)) \n",
    "reviews2_features = reviews2_vec.fit_transform(reviews_total)\n",
    "reviews2_tfidf = transformer.fit_transform(reviews2_features)\n",
    "reviews2_features = reviews2_features.toarray()\n",
    "reviews2_tfidf = reviews2_tfidf.toarray()\n",
    "\n",
    "\n",
    "reviews3_vec = CountVectorizer(analyzer = \"word\",   \\\n",
    "                             tokenizer = None,    \\\n",
    "                             preprocessor = None, \\\n",
    "                             stop_words = None,   \\\n",
    "                             max_features = 400, ngram_range=(3,3)) \n",
    "reviews3_features = reviews3_vec.fit_transform(reviews_total)\n",
    "reviews3_tfidf = transformer.fit_transform(reviews3_features)\n",
    "reviews3_features = reviews3_features.toarray()\n",
    "reviews3_tfidf = reviews3_tfidf.toarray()\n",
    "\n",
    "vocab = reviews_vec.get_feature_names()\n",
    "vocab2 = reviews2_vec.get_feature_names()\n",
    "vocab3 = reviews3_vec.get_feature_names()"
   ]
  },
  {
   "cell_type": "code",
   "execution_count": 20,
   "metadata": {
    "collapsed": false
   },
   "outputs": [
    {
     "name": "stdout",
     "output_type": "stream",
     "text": [
      "[u'able', u'absolutely', u'across', u'actually', u'almost', u'also', u'although', u'always', u'amazing', u'another', u'anything', u'area', u'around', u'arrived', u'ask', u'asked', u'ass', u'atmosphere', u'away', u'awesome', u'back', u'bad', u'bar', u'bathroom', u'bathrooms', u'beautiful', u'bed', u'beds', u'bellagio', u'best', u'better', u'big', u'bit', u'book', u'booked', u'breakfast', u'bring', u'buffet', u'caesar', u'caesars', u'cafe', u'call', u'called', u'came', u'card', u'care', u'casino', u'casinos', u'center', u'charge', u'cheap', u'check', u'checked', u'circus', u'clean', u'close', u'club', u'coffee', u'come', u'comfortable', u'coming', u'cool', u'could', u'couple', u'course', u'crowd', u'crowded', u'customer', u'dance', u'day', u'days', u'deal', u'decent', u'decided', u'decor', u'definitely', u'delicious', u'desk', u'different', u'dining', u'dinner', u'disappointed', u'done', u'door', u'double', u'drink', u'drinks', u'early', u'easy', u'eat', u'either', u'elevators', u'else', u'encore', u'end', u'enjoy', u'enjoyed', u'enough', u'especially', u'etc', u'even', u'ever', u'every', u'everyone', u'everything', u'excellent', u'expect', u'expensive', u'experience', u'extra', u'fact', u'family', u'fantastic', u'far', u'favorite', u'fee', u'feel', u'felt', u'finally', u'find', u'fine', u'first', u'floor', u'food', u'found', u'fountain', u'fountains', u'free', u'friend', u'friendly', u'friends', u'front', u'full', u'fun', u'gamble', u'gambling', u'games', u'gave', u'get', u'getting', u'girls', u'give', u'glass', u'go', u'going', u'good', u'gorgeous', u'got', u'grand', u'great', u'group', u'guess', u'guest', u'guests', u'guy', u'half', u'happy', u'hard', u'helpful', u'high', u'home', u'hot', u'hotel', u'hotels', u'hour', u'hours', u'however', u'huge', u'husband', u'inside', u'instead', u'keep', u'kids', u'kind', u'king', u'know', u'large', u'las', u'last', u'late', u'later', u'least', u'leave', u'left', u'less', u'let', u'like', u'line', u'little', u'living', u'lobby', u'located', u'location', u'long', u'look', u'looked', u'looking', u'lost', u'lot', u'lots', u'love', u'loved', u'lunch', u'made', u'main', u'make', u'makes', u'man', u'manager', u'many', u'may', u'maybe', u'meal', u'menu', u'mgm', u'middle', u'might', u'minutes', u'money', u'morning', u'much', u'music', u'must', u'name', u'need', u'never', u'new', u'next', u'nice', u'night', u'nights', u'non', u'nothing', u'ny', u'oh', u'ok', u'okay', u'old', u'one', u'open', u'options', u'order', u'ordered', u'outside', u'overall', u'paid', u'palace', u'palazzo', u'parking', u'part', u'party', u'past', u'pay', u'people', u'per', u'perfect', u'person', u'pink', u'place', u'places', u'play', u'playing', u'plenty', u'plus', u'pm', u'point', u'pool', u'pools', u'pretty', u'price', u'prices', u'probably', u'problem', u'property', u'put', u'quality', u'quite', u'ready', u'real', u'really', u'reason', u'recommend', u'remember', u'resort', u'rest', u'restaurant', u'restaurants', u'review', u'ride', u'right', u'rock', u'roller', u'room', u'rooms', u'said', u'saw', u'say', u'second', u'security', u'see', u'seemed', u'seen', u'selection', u'separate', u'service', u'several', u'shopping', u'shops', u'show', u'shower', u'shows', u'side', u'since', u'sit', u'size', u'sleep', u'small', u'smell', u'smoke', u'smoking', u'someone', u'something', u'spa', u'spacious', u'special', u'spend', u'spent', u'staff', u'star', u'stars', u'stay', u'stayed', u'staying', u'still', u'street', u'strip', u'stuff', u'suite', u'suites', u'super', u'sure', u'table', u'tables', u'take', u'tao', u'tell', u'th', u'thing', u'things', u'think', u'though', u'thought', u'three', u'time', u'times', u'told', u'took', u'top', u'tower', u'tried', u'trip', u'try', u'trying', u'tub', u'tv', u'two', u'us', u'use', u'used', u'usually', u'valet', u'vegas', u'venetian', u'view', u'visit', u'wait', u'waiting', u'walk', u'walked', u'walking', u'want', u'wanted', u'watch', u'water', u'way', u'weekend', u'well', u'went', u'whole', u'without', u'wonderful', u'work', u'worth', u'would', u'wynn', u'year', u'years', u'yes', u'yet', u'york']\n",
      "[u'able get', u'across street', u'adventure dome', u'another hotel', u'another room', u'anywhere else', u'around pm', u'ass juice', u'augustus tower', u'bachelor party', u'back hotel', u'back room', u'back vegas', u'bacon martini', u'beautiful hotel', u'bed comfortable', u'beds comfortable', u'bellagio buffet', u'bellagio fountains', u'best hotel', u'best hotels', u'best part', u'best place', u'big deal', u'black jack', u'blackjack tables', u'booked room', u'bottle service', u'breakfast buffet', u'caesar palace', u'caesars palace', u'call front', u'called front', u'came back', u'casino area', u'casino floor', u'casino hotel', u'center strip', u'centrally located', u'check check', u'cheesecake factory', u'cigarette smoke', u'circus acts', u'circus circus', u'cirque du', u'cocktail waitresses', u'coffee maker', u'come back', u'come vegas', u'coming back', u'could get', u'could hear', u'could see', u'coyote ugly', u'crab legs', u'credit card', u'customer service', u'dance floor', u'day weekend', u'definitely recommend', u'definitely stay', u'definitely worth', u'dive bar', u'du soleil', u'easy get', u'end strip', u'enjoyed stay', u'even better', u'even though', u'ever seen', u'ever stayed', u'every minutes', u'every single', u'every time', u'everything else', u'favorite hotel', u'favorite place', u'feel like', u'feels like', u'felt like', u'fine dining', u'first night', u'first time', u'five star', u'five stars', u'flat screen', u'floor ceiling', u'food court', u'food good', u'food great', u'food options', u'forum shops', u'fountain show', u'fountain view', u'free drinks', u'friday night', u'friendly helpful', u'friendly staff', u'front desk', u'fun place', u'gave us', u'get back', u'get free', u'get good', u'get lost', u'get one', u'get pay', u'get room', u'getting ready', u'give stars', u'give us', u'go back', u'go vegas', u'go wrong', u'going back', u'golf course', u'gondola ride', u'good deal', u'good food', u'good place', u'good service', u'good thing', u'good time', u'got back', u'got room', u'grand lux', u'great deal', u'great experience', u'great food', u'great hotel', u'great location', u'great place', u'great restaurants', u'great service', u'great time', u'great view', u'happy hour', u'hard rock', u'high end', u'highly recommend', u'hot dog', u'hot dogs', u'hot water', u'hotel beautiful', u'hotel casino', u'hotel ever', u'hotel great', u'hotel las', u'hotel like', u'hotel nice', u'hotel one', u'hotel really', u'hotel room', u'hotel rooms', u'hotel staff', u'hotel stay', u'hotel stayed', u'hotel strip', u'hotel vegas', u'hotel would', u'hotels strip', u'hotels vegas', u'ice cream', u'imperial palace', u'inside hotel', u'jacuzzi tub', u'king bed', u'king size', u'kobe beef', u'las vegas', u'last night', u'last time', u'last year', u'late check', u'late night', u'le reve', u'let us', u'like hotel', u'like place', u'little bit', u'living room', u'location strip', u'long line', u'long time', u'look like', u'looked like', u'looking forward', u'looks like', u'lot fun', u'love hotel', u'love love', u'love place', u'lux cafe', u'make sure', u'makes feel', u'mandalay bay', u'many people', u'many times', u'mexican food', u'mgm grand', u'middle strip', u'mini bar', u'minutes get', u'monte carlo', u'much better', u'much fun', u'much time', u'must say', u'must see', u'never stay', u'never stayed', u'new room', u'new york', u'next day', u'next door', u'next morning', u'next time', u'nice clean', u'nice hotel', u'nice place', u'nice room', u'nice rooms', u'nice view', u'night club', u'night stay', u'non smoking', u'nothing special', u'ny ny', u'old school', u'one best', u'one day', u'one favorite', u'one night', u'one star', u'one thing', u'one time', u'overall great', u'palace tower', u'parking garage', u'parking lot', u'past weekend', u'people watching', u'per day', u'per night', u'per person', u'pink taco', u'place go', u'place great', u'place like', u'place really', u'place stay', u'places eat', u'places stay', u'planet hollywood', u'poker room', u'pool area', u'pretty cool', u'pretty good', u'pretty much', u'pretty nice', u'prime rib', u'queen beds', u'really cool', u'really enjoyed', u'really good', u'really great', u'really like', u'really liked', u'really nice', u'really really', u'reasonably priced', u'recommend hotel', u'resort fee', u'resort fees', u'right away', u'right next', u'rock hotel', u'roller coaster', u'room also', u'room bathroom', u'room beautiful', u'room clean', u'room great', u'room key', u'room nice', u'room one', u'room pretty', u'room ready', u'room room', u'room service', u'room spacious', u'room th', u'room two', u'room view', u'rooms clean', u'rooms great', u'rooms nice', u'rooms spacious', u'said would', u'saturday night', u'screen tv', u'second time', u'seemed like', u'seems like', u'service good', u'service great', u'several times', u'sin city', u'size bed', u'slot machine', u'slot machines', u'smell like', u'smelled like', u'smoking room', u'somewhere else', u'spa tower', u'spend time', u'sports book', u'staff friendly', u'standard room', u'star hotel', u'stay away', u'stay bellagio', u'stay hotel', u'stay room', u'stay somewhere', u'stay strip', u'stay vegas', u'stay venetian', u'stay wynn', u'stayed bellagio', u'stayed hotel', u'stayed venetian', u'stayed wynn', u'staying bellagio', u'staying hotel', u'staying venetian', u'steve wynn', u'strip view', u'sunken living', u'table games', u'tao beach', u'th floor', u'think would', u'thought would', u'time go', u'time room', u'time stayed', u'time staying', u'time vegas', u'told us', u'top notch', u'tower room', u'tower suites', u'treasure island', u'trip vegas', u'trying get', u'tv bathroom', u'two nights', u'us room', u'vegas experience', u'vegas hotel', u'vegas hotels', u'vegas stay', u'vegas stayed', u'vegas strip', u'vegas trip', u'venetian palazzo', u'venezia tower', u'view room', u'view strip', u'visit vegas', u'wait line', u'walk around', u'walking around', u'walking distance', u'want go', u'want stay', u'water show', u'well worth', u'went back', u'west tower', u'wi fi', u'worth every', u'worth price', u'would come', u'would definitely', u'would expect', u'would get', u'would give', u'would go', u'would like', u'would never', u'would recommend', u'would say', u'would stay', u'wynn encore', u'year old', u'years ago', u'york new']\n",
      "[u'always great time', u'always wanted stay', u'anywhere else vegas', u'asked front desk', u'asked non smoking', u'asked speak manager', u'back front desk', u'back next time', u'bad customer service', u'beautiful hotel casino', u'bed ever slept', u'bed super comfortable', u'bedroom living room', u'beds ever slept', u'beds super comfy', u'bellagio fountain show', u'bellagio water show', u'best bang buck', u'best buffet ever', u'best hotel ever', u'best hotel las', u'best hotel stayed', u'best hotel strip', u'best hotel vegas', u'best hotels vegas', u'best las vegas', u'best place stay', u'big flat screen', u'black jack tables', u'blue man group', u'buy one get', u'call front desk', u'called front desk', u'calling front desk', u'canyon ranch spa', u'casino las vegas', u'centrally located strip', u'check front desk', u'chili cheese dog', u'chili cheese fries', u'chinese new year', u'chocolate covered strawberries', u'circus circus hotel', u'circus circus one', u'cirque du soleil', u'clean staff friendly', u'coffee maker room', u'come back vegas', u'comfortable beds ever', u'compared hotels strip', u'conservatory botanical gardens', u'could care less', u'couple weeks ago', u'couple years ago', u'coyote ugly bar', u'customer service ever', u'customer service great', u'daily resort fee', u'day resort fee', u'definitely come back', u'definitely coming back', u'definitely go back', u'definitely one best', u'deluxe fountain view', u'du soleil show', u'du soleil shows', u'dueling piano bar', u'easy get lost', u'encore beach club', u'ever go back', u'every half hour', u'every hotel strip', u'every room suite', u'every staff member', u'every time come', u'every time go', u'every time vegas', u'excellent customer service', u'extra money stay', u'far best hotel', u'far end strip', u'far favorite hotel', u'fashion show mall', u'favorite hotel las', u'favorite hotel stay', u'favorite hotel strip', u'favorite hotel vegas', u'favorite place stay', u'favorite places stay', u'fee per night', u'feel like royalty', u'feel like walking', u'find way around', u'first time ever', u'first time stayed', u'first time staying', u'first time vegas', u'first trip vegas', u'five star hotel', u'flat panel tv', u'flat screen tv', u'flat screen tvs', u'floor ceiling windows', u'floor great view', u'food great service', u'food pretty good', u'food really good', u'fountain view room', u'free circus acts', u'free wi fi', u'front desk ask', u'front desk asked', u'front desk check', u'front desk clerk', u'front desk manager', u'front desk person', u'front desk room', u'front desk said', u'front desk staff', u'front desk told', u'gave us free', u'gave us room', u'get money worth', u'get one free', u'give five stars', u'give place stars', u'glass enclosed shower', u'go back vegas', u'go front desk', u'go las vegas', u'go somewhere else', u'good place stay', u'got back room', u'got good deal', u'got great deal', u'grand canal shoppes', u'grand canal shops', u'grand lux cafe', u'great customer service', u'great food great', u'great hotel great', u'great location strip', u'great place stay', u'great service great', u'great view strip', u'hand blown glass', u'happiest place earth', u'hard rock hotel', u'high end hotel', u'high end hotels', u'high end restaurants', u'high end shopping', u'high end shops', u'high end stores', u'highly recommend staying', u'hip hop room', u'home away home', u'horrible customer service', u'hotel casino vegas', u'hotel ever stayed', u'hotel great location', u'hotel great service', u'hotel las vegas', u'hotel stayed vegas', u'hotels ever stayed', u'hotels las vegas', u'included resort fee', u'jean philippe patisserie', u'kids running around', u'king bed room', u'king crab legs', u'king size bed', u'king sized bed', u'labor day weekend', u'lady front desk', u'lake view room', u'largest chocolate fountain', u'las vegas blvd', u'las vegas boulevard', u'las vegas hotel', u'las vegas hotels', u'las vegas hrid', u'las vegas rooms', u'las vegas stay', u'las vegas stayed', u'las vegas strip', u'last time stayed', u'last time went', u'let start saying', u'let us know', u'like hard rock', u'like new york', u'living room area', u'location location location', u'long story short', u'love love love', u'love new york', u'luxor mandalay bay', u'made feel like', u'made us feel', u'make feel like', u'make sure ask', u'make sure bring', u'make sure check', u'make sure get', u'makes feel like', u'mall across street', u'manor motor lodge', u'many hotels strip', u'memorial day weekend', u'minus one star', u'mon ami gabi', u'much time room', u'need leave hotel', u'never come back', u'never go back', u'never stayed hotel', u'new york city', u'new york hotel', u'new york new', u'next time come', u'next time go', u'next time stay', u'next time vegas', u'next time visit', u'next trip vegas', u'nice place stay', u'nice view strip', u'night resort fee', u'nine fine irishmen', u'non smoking floor', u'non smoking room', u'non smoking rooms', u'north end strip', u'nothing write home', u'old school vegas', u'one best hotels', u'one best places', u'one best strip', u'one favorite hotels', u'one favorite places', u'one get one', u'one living room', u'one nicest hotels', u'one night stay', u'one thing like', u'order room service', u'ordered room service', u'overall good experience', u'overall great experience', u'palace tower room', u'park avenue room', u'pay resort fee', u'pink hot dogs', u'place ever stayed', u'place las vegas', u'place people watch', u'place stay strip', u'place stay vegas', u'places stay vegas', u'planet hollywood dog', u'pool area nice', u'poor customer service', u'pretty much everything', u'pussycat dolls lounge', u'queen size beds', u'queen sized beds', u'really enjoyed stay', u'really feel like', u'recent trip vegas', u'recommend hotel anyone', u'resort fee per', u'ride roller coaster', u'right across street', u'right middle strip', u'right next door', u'roller coaster fun', u'room augustus tower', u'room clean spacious', u'room great view', u'room king bed', u'room king size', u'room looked like', u'room next door', u'room nice clean', u'room palace tower', u'room queen beds', u'room really nice', u'room service food', u'room service great', u'room smelled like', u'room th floor', u'room two queen', u'room west tower', u'rooms nice clean', u'rooms pretty nice', u'rooms really nice', u'rooms spacious clean', u'second hand smoke', u'see water show', u'seen better days', u'separate room toilet', u'separate tub shower', u'service front desk', u'service top notch', u'show every minutes', u'smell like smoke', u'smelled like smoke', u'south end strip', u'spend lot time', u'spend much time', u'spent lot time', u'staff friendly helpful', u'staff super friendly', u'stay anywhere else', u'stay circus circus', u'stay every time', u'stay hard rock', u'stay las vegas', u'stay new york', u'stay next time', u'stay ny ny', u'stay somewhere else', u'stayed augustus tower', u'stayed circus circus', u'stayed first time', u'stayed many hotels', u'stayed many times', u'stayed new york', u'stayed one night', u'stayed palace tower', u'stayed past weekend', u'stayed several hotels', u'stayed several times', u'stayed th floor', u'stayed three nights', u'stayed two nights', u'stayed venezia tower', u'stayed west tower', u'stayed years ago', u'staying anywhere else', u'staying circus circus', u'staying hard rock', u'streets new york', u'strip view room', u'suite th floor', u'sunken living room', u'sweet potato fries', u'th floor room', u'th floor view', u'thehotel mandalay bay', u'three night stay', u'time come vegas', u'time go vegas', u'time las vegas', u'time staying bellagio', u'time vegas stayed', u'told front desk', u'took long time', u'took minutes get', u'tower th floor', u'trip las vegas', u'tub separate shower', u'two double beds', u'two night stay', u'two queen beds', u'vegas first time', u'vegas many times', u'venetian las vegas', u'view bellagio fountains', u'view golf course', u'view roller coaster', u'view th floor', u'visit las vegas', u'visiting las vegas', u'wait come back', u'wait go back', u'want come back', u'water show front', u'went front desk', u'west tower room', u'wish could give', u'within walking distance', u'worst customer service', u'worst hotel ever', u'worth every penny', u'would come back', u'would definitely come', u'would definitely go', u'would definitely recommend', u'would definitely stay', u'would go back', u'would highly recommend', u'would love stay', u'would never stay', u'would recommend anyone', u'would recommend hotel', u'would recommend staying', u'wynn las vegas', u'york new york']\n"
     ]
    }
   ],
   "source": [
    "print vocab\n",
    "print vocab2\n",
    "print vocab3"
   ]
  },
  {
   "cell_type": "code",
   "execution_count": 8,
   "metadata": {
    "collapsed": false
   },
   "outputs": [
    {
     "name": "stdout",
     "output_type": "stream",
     "text": [
      "            bigram            trigram unigram\n",
      "0  everything else    hotel las vegas   since\n",
      "1        good food  room smelled like    wynn\n",
      "2      many people    room nice clean    show\n",
      "3        room nice   non smoking room   money\n",
      "4     one favorite   last time stayed   cheap\n",
      "5        view room    one best hotels   years\n",
      "6    circus circus      stay new york  course\n",
      "7      much better    first time ever   rooms\n",
      "8        one thing  front desk person      go\n",
      "9     mandalay bay    best hotel ever   still\n"
     ]
    }
   ],
   "source": [
    "i=1\n",
    "dist = reviews_tfidf[i] #one row of word features\n",
    "count_dict = dict(zip(vocab, dist))\n",
    "sorted_count_dict = sorted(count_dict.items(), key=operator.itemgetter(1),reverse=True)\n",
    "word, freq = zip(*sorted_count_dict)\n",
    "\n",
    "dist2 = reviews2_tfidf[i] #one row of word features\n",
    "count_dict2 = dict(zip(vocab2, dist2))\n",
    "sorted_count_dict2 = sorted(count_dict2.items(), key=operator.itemgetter(1),reverse=True)\n",
    "word2, freq2 = zip(*sorted_count_dict2)\n",
    "\n",
    "dist3 = reviews3_tfidf[i] #one row of word features\n",
    "count_dict3 = dict(zip(vocab3, dist3))\n",
    "sorted_count_dict3 = sorted(count_dict3.items(), key=operator.itemgetter(1),reverse=True)\n",
    "word3, freq3 = zip(*sorted_count_dict3)\n",
    "\n",
    "ugram = word[0:nreturn]\n",
    "bgram = word2[0:nreturn]\n",
    "tgram = word3[0:nreturn]\n",
    "\n",
    "result = pd.DataFrame({'unigram' : ugram, 'bigram' : bgram, 'trigram' : tgram})\n",
    "print result"
   ]
  },
  {
   "cell_type": "code",
   "execution_count": 9,
   "metadata": {
    "collapsed": false
   },
   "outputs": [
    {
     "name": "stdout",
     "output_type": "stream",
     "text": [
      "2015-11-18\n"
     ]
    }
   ],
   "source": [
    "word1_list = []\n",
    "freq1 = []\n",
    "\n",
    "word2_list = []\n",
    "freq2 = []\n",
    "\n",
    "word3_list = []\n",
    "freq3 = []\n",
    "\n",
    "for i in range(dlen-1):\n",
    "    dist = reviews3_tfidf[i] #one row of word features\n",
    "    count_dict = dict(zip(vocab3, dist))\n",
    "    sorted_count_dict = sorted(count_dict.items(), key=operator.itemgetter(1),reverse=True)\n",
    "    word, freq = zip(*sorted_count_dict)\n",
    "    \n",
    "    #print datelist[i], map(lambda x: x.encode('ascii'), word[0:1]), freq[0]\n",
    "    word3_list.append(word[0:1])\n",
    "    freq3.append(freq[0])\n",
    "    \n",
    "    dist = reviews2_tfidf[i] #one row of word features\n",
    "    count_dict = dict(zip(vocab2, dist))\n",
    "    sorted_count_dict = sorted(count_dict.items(), key=operator.itemgetter(1),reverse=True)\n",
    "    word, freq = zip(*sorted_count_dict)\n",
    "    \n",
    "    #print datelist[i], map(lambda x: x.encode('ascii'), word[0:1]), freq[0]\n",
    "    word2_list.append(word[0:1])\n",
    "    freq2.append(freq[0])\n",
    "    \n",
    "    dist = reviews_tfidf[i] #one row of word features\n",
    "    count_dict = dict(zip(vocab, dist))\n",
    "    sorted_count_dict = sorted(count_dict.items(), key=operator.itemgetter(1),reverse=True)\n",
    "    word, freq = zip(*sorted_count_dict)\n",
    "    \n",
    "    #print datelist[i], map(lambda x: x.encode('ascii'), word[0:1]), freq[0]\n",
    "    word1_list.append(word[0:1])\n",
    "    freq1.append(freq[0])    \n",
    "\n",
    "word_tot = []    \n",
    "for w in word1_list:\n",
    "    word_tot.append(w)\n",
    "for w in word2_list:\n",
    "    word_tot.append(w)\n",
    "for w in word3_list:\n",
    "    word_tot.append(w)\n",
    "\n",
    "\n",
    "freq_tot = []   \n",
    "color_list_long = []\n",
    "for f in freq1:\n",
    "    freq_tot.append(f)\n",
    "    color_list_long.append('blue')\n",
    "for f in freq2:\n",
    "    freq_tot.append(f)\n",
    "    color_list_long.append('red')\n",
    "for f in freq3:\n",
    "    freq_tot.append(f)   \n",
    "    color_list_long.append('green')\n",
    "    \n",
    "    \n",
    "datelist_triple = []    \n",
    "for i in range(3):\n",
    "    for d in datelist[0:len(freq1)]:\n",
    "        datelist_triple.append(d)\n",
    "        \n",
    "print datelist[-3]        "
   ]
  },
  {
   "cell_type": "code",
   "execution_count": 10,
   "metadata": {
    "collapsed": false
   },
   "outputs": [],
   "source": [
    "#output_notebook()"
   ]
  },
  {
   "cell_type": "code",
   "execution_count": 11,
   "metadata": {
    "collapsed": false
   },
   "outputs": [
    {
     "name": "stdout",
     "output_type": "stream",
     "text": [
      "405\n",
      "405\n",
      "405\n",
      "405\n"
     ]
    }
   ],
   "source": [
    "print len(word_tot)\n",
    "print len(datelist_triple)\n",
    "print len(freq_tot)\n",
    "print len(color_list_long)\n",
    "\n",
    "from bokeh.models import ColumnDataSource, Range1d, LabelSet, Label, HoverTool\n",
    "\n",
    "TOOLS = \"pan,wheel_zoom,box_zoom,reset\"\n",
    "color_list = ['blue','red', 'green', 'orange', 'black']\n",
    "\n",
    "source = ColumnDataSource(data = dict(x=datelist_triple, y=freq_tot, words=word_tot, the_colors=color_list_long))\n",
    "\n",
    "hover = HoverTool(tooltips=  \"\"\"\n",
    "                 <div>\n",
    "                 <span style=\"font-size: 15px; font-weight: bold;\">@words</span>\n",
    "                 </div>\n",
    "                  \"\"\"\n",
    "                 )\n",
    "\n",
    "plot1 = figure(tools=[\"pan\",\"wheel_zoom\",\"box_zoom\",\"reset\",hover], title='Frequently used words and phrases', x_axis_label='date', \n",
    "               x_axis_type='datetime', y_axis_label = 'relative word frequency')\n",
    "\n",
    "\n",
    "plot1.square('x', 'y', source=source, color=color_list_long)\n",
    "\n",
    "\n",
    "plot1.xaxis.axis_label_text_font_size = \"20pt\"\n",
    "plot1.yaxis.axis_label_text_font_size = \"20pt\"\n",
    "plot1.xaxis.axis_label_text_font_style = \"normal\"\n",
    "plot1.yaxis.axis_label_text_font_style = \"normal\"\n",
    "plot1.yaxis.major_label_text_font_size = \"15pt\"\n",
    "plot1.xaxis.major_label_text_font_size = \"15pt\"\n",
    "\n",
    "label1 = Label(x=400, y=470, x_units='screen', y_units='screen', text='blue -- unigrams', render_mode='css',\n",
    "      border_line_color='white', background_fill_color='white')\n",
    "label2 = Label(x=400, y=500, x_units='screen', y_units='screen', text='red -- biigrams', render_mode='css',\n",
    "      border_line_color='white', background_fill_color='white')\n",
    "label3 = Label(x=400, y=530, x_units='screen', y_units='screen', text='green -- trigrams', render_mode='css',\n",
    "      border_line_color='white', background_fill_color='white')\n",
    "\n",
    "plot1.add_layout(label1)\n",
    "plot1.add_layout(label2)\n",
    "plot1.add_layout(label3)\n",
    "\n",
    "p = plot1\n",
    "\n",
    "output_file(\"result.html\")\n",
    "#script, div = components(p)\n",
    "# show the results\n",
    "show(p)"
   ]
  },
  {
   "cell_type": "code",
   "execution_count": 23,
   "metadata": {
    "collapsed": false
   },
   "outputs": [
    {
     "name": "stdout",
     "output_type": "stream",
     "text": [
      "                 business_id    date     day   month   stars  text_clean  \\\n",
      "city                                                                       \n",
      "Champaign              11188   11188   11188   11188   11188       11188   \n",
      "Chandler               60321   60321   60321   60321   60321       60321   \n",
      "Charlotte             122655  122655  122655  122655  122655      122655   \n",
      "Edinburgh              28196   28196   28196   28196   28196       28196   \n",
      "Gilbert                43769   43769   43769   43769   43769       43769   \n",
      "Glendale               35829   35829   35829   35829   35829       35829   \n",
      "Goodyear               10150   10150   10150   10150   10150       10150   \n",
      "Henderson              78438   78438   78438   78438   78438       78438   \n",
      "Las Vegas             861536  861536  861536  861536  861536      861536   \n",
      "Madison                49818   49818   49818   49818   49818       49818   \n",
      "Mesa                   59723   59723   59723   59723   59723       59723   \n",
      "Montréal               63051   63051   63051   63051   63051       63051   \n",
      "North Las Vegas        16203   16203   16203   16203   16203       16203   \n",
      "Peoria                 17326   17326   17326   17326   17326       17326   \n",
      "Phoenix               306209  306209  306209  306209  306209      306209   \n",
      "Pittsburgh             87032   87032   87032   87032   87032       87032   \n",
      "Scottsdale            166153  166153  166153  166153  166153      166153   \n",
      "Surprise               11160   11160   11160   11160   11160       11160   \n",
      "Tempe                  89456   89456   89456   89456   89456       89456   \n",
      "\n",
      "                   year  business_name  business_stars   state  \n",
      "city                                                            \n",
      "Champaign         11188          11188           11188   11188  \n",
      "Chandler          60321          60321           60321   60321  \n",
      "Charlotte        122655         122655          122655  122655  \n",
      "Edinburgh         28196          28196           28196   28196  \n",
      "Gilbert           43769          43769           43769   43769  \n",
      "Glendale          35829          35829           35829   35829  \n",
      "Goodyear          10150          10150           10150   10150  \n",
      "Henderson         78438          78438           78438   78438  \n",
      "Las Vegas        861536         861536          861536  861536  \n",
      "Madison           49818          49818           49818   49818  \n",
      "Mesa              59723          59723           59723   59723  \n",
      "Montréal          63051          63051           63051   63051  \n",
      "North Las Vegas   16203          16203           16203   16203  \n",
      "Peoria            17326          17326           17326   17326  \n",
      "Phoenix          306209         306209          306209  306209  \n",
      "Pittsburgh        87032          87032           87032   87032  \n",
      "Scottsdale       166153         166153          166153  166153  \n",
      "Surprise          11160          11160           11160   11160  \n",
      "Tempe             89456          89456           89456   89456  \n",
      "Champaign , IL\n",
      "Chandler , AZ\n",
      "Charlotte , NC\n",
      "Edinburgh , EDH\n",
      "Gilbert , AZ\n",
      "Glendale , AZ\n",
      "Goodyear , AZ\n",
      "Henderson , NV\n",
      "Las Vegas , NV\n",
      "Madison , WI\n",
      "Mesa , AZ\n",
      "Montréal , QC\n",
      "North Las Vegas , NV\n",
      "Peoria , AZ\n",
      "Phoenix , AZ\n",
      "Pittsburgh , PA\n",
      "Scottsdale , AZ\n",
      "Surprise , AZ\n",
      "Tempe , AZ\n"
     ]
    }
   ],
   "source": [
    "city_list = reviews['city'].unique()\n",
    "    \n",
    "rev_by_city = reviews.groupby(['city']).count()\n",
    "rev_by_city2 = rev_by_city[rev_by_city['state'] > 10000]\n",
    "\n",
    "print rev_by_city2\n",
    "\n",
    "city_list = []\n",
    "\n",
    "for c in rev_by_city2.index:\n",
    "    city_list.append(c)\n",
    "\n",
    "for c in city_list:\n",
    "    print c,',',reviews[reviews['city']==c].state.iloc[0]\n",
    "    \n",
    "\n",
    "#MontrMontr\\xc3\\xa9al is Montréal"
   ]
  },
  {
   "cell_type": "code",
   "execution_count": 13,
   "metadata": {
    "collapsed": false
   },
   "outputs": [
    {
     "ename": "NameError",
     "evalue": "name 'business_subset' is not defined",
     "output_type": "error",
     "traceback": [
      "\u001b[0;31m---------------------------------------------------------------------------\u001b[0m",
      "\u001b[0;31mNameError\u001b[0m                                 Traceback (most recent call last)",
      "\u001b[0;32m<ipython-input-13-22524f77deca>\u001b[0m in \u001b[0;36m<module>\u001b[0;34m()\u001b[0m\n\u001b[0;32m----> 1\u001b[0;31m \u001b[0mreview_rate\u001b[0m \u001b[0;34m=\u001b[0m \u001b[0mnp\u001b[0m\u001b[0;34m.\u001b[0m\u001b[0mzeros\u001b[0m\u001b[0;34m(\u001b[0m\u001b[0mlen\u001b[0m\u001b[0;34m(\u001b[0m\u001b[0mbusiness_subset\u001b[0m\u001b[0;34m)\u001b[0m\u001b[0;34m)\u001b[0m\u001b[0;34m\u001b[0m\u001b[0m\n\u001b[0m\u001b[1;32m      2\u001b[0m \u001b[0mfirst_date\u001b[0m \u001b[0;34m=\u001b[0m \u001b[0mnp\u001b[0m\u001b[0;34m.\u001b[0m\u001b[0marange\u001b[0m\u001b[0;34m(\u001b[0m\u001b[0;34m'2000-01-01'\u001b[0m\u001b[0;34m,\u001b[0m \u001b[0;34m'2020-01-01'\u001b[0m\u001b[0;34m,\u001b[0m \u001b[0mdtype\u001b[0m\u001b[0;34m=\u001b[0m\u001b[0;34m'datetime64[D]'\u001b[0m\u001b[0;34m)\u001b[0m\u001b[0;34m\u001b[0m\u001b[0m\n\u001b[1;32m      3\u001b[0m \u001b[0mlast_date\u001b[0m \u001b[0;34m=\u001b[0m \u001b[0mnp\u001b[0m\u001b[0;34m.\u001b[0m\u001b[0marange\u001b[0m\u001b[0;34m(\u001b[0m\u001b[0;34m'2000-01-01'\u001b[0m\u001b[0;34m,\u001b[0m \u001b[0;34m'2020-01-01'\u001b[0m\u001b[0;34m,\u001b[0m \u001b[0mdtype\u001b[0m\u001b[0;34m=\u001b[0m\u001b[0;34m'datetime64[D]'\u001b[0m\u001b[0;34m)\u001b[0m\u001b[0;34m\u001b[0m\u001b[0m\n\u001b[1;32m      4\u001b[0m \u001b[0;34m\u001b[0m\u001b[0m\n\u001b[1;32m      5\u001b[0m \u001b[0;32mfor\u001b[0m \u001b[0mi\u001b[0m \u001b[0;32min\u001b[0m \u001b[0mrange\u001b[0m\u001b[0;34m(\u001b[0m\u001b[0mlen\u001b[0m\u001b[0;34m(\u001b[0m\u001b[0mbusiness_subset\u001b[0m\u001b[0;34m)\u001b[0m\u001b[0;34m)\u001b[0m\u001b[0;34m:\u001b[0m\u001b[0;34m\u001b[0m\u001b[0m\n",
      "\u001b[0;31mNameError\u001b[0m: name 'business_subset' is not defined"
     ]
    }
   ],
   "source": [
    "review_rate = np.zeros(len(business_subset))\n",
    "first_date = np.arange('2000-01-01', '2020-01-01', dtype='datetime64[D]')\n",
    "last_date = np.arange('2000-01-01', '2020-01-01', dtype='datetime64[D]')\n",
    "\n",
    "for i in range(len(business_subset)):\n",
    "    bus_id = business_subset.index[i]\n",
    "    review_subset = reviews[reviews['business_id'] == bus_id]\n",
    "    first_date_here = min(review_subset['date'])\n",
    "    last_date_here = max(review_subset['date'])\n",
    "    delta = last_date_here - first_date_here\n",
    "    if i %100 == 0:\n",
    "        print \"i =\", i\n",
    "\n",
    "#my_colors = list(map(calc_rate, business_subset))"
   ]
  },
  {
   "cell_type": "code",
   "execution_count": null,
   "metadata": {
    "collapsed": true
   },
   "outputs": [],
   "source": []
  }
 ],
 "metadata": {
  "anaconda-cloud": {},
  "kernelspec": {
   "display_name": "Python [py2]",
   "language": "python",
   "name": "Python [py2]"
  },
  "language_info": {
   "codemirror_mode": {
    "name": "ipython",
    "version": 2
   },
   "file_extension": ".py",
   "mimetype": "text/x-python",
   "name": "python",
   "nbconvert_exporter": "python",
   "pygments_lexer": "ipython2",
   "version": "2.7.12"
  }
 },
 "nbformat": 4,
 "nbformat_minor": 0
}
